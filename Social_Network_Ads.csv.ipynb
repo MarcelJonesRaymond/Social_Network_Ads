{
 "cells": [
  {
   "cell_type": "code",
   "execution_count": 1,
   "id": "5e42a8cf",
   "metadata": {},
   "outputs": [],
   "source": [
    "import pandas as pd\n",
    "import numpy as np\n",
    "import seaborn as sns\n",
    "import matplotlib.pyplot as plt"
   ]
  },
  {
   "cell_type": "code",
   "execution_count": 2,
   "id": "18bfd963",
   "metadata": {},
   "outputs": [],
   "source": [
    "data=pd.read_csv('Social_Network_Ads.csv')"
   ]
  },
  {
   "cell_type": "code",
   "execution_count": 4,
   "id": "32bfb8af",
   "metadata": {},
   "outputs": [
    {
     "data": {
      "text/html": [
       "<div>\n",
       "<style scoped>\n",
       "    .dataframe tbody tr th:only-of-type {\n",
       "        vertical-align: middle;\n",
       "    }\n",
       "\n",
       "    .dataframe tbody tr th {\n",
       "        vertical-align: top;\n",
       "    }\n",
       "\n",
       "    .dataframe thead th {\n",
       "        text-align: right;\n",
       "    }\n",
       "</style>\n",
       "<table border=\"1\" class=\"dataframe\">\n",
       "  <thead>\n",
       "    <tr style=\"text-align: right;\">\n",
       "      <th></th>\n",
       "      <th>Age</th>\n",
       "      <th>EstimatedSalary</th>\n",
       "      <th>Purchased</th>\n",
       "    </tr>\n",
       "  </thead>\n",
       "  <tbody>\n",
       "    <tr>\n",
       "      <th>0</th>\n",
       "      <td>19</td>\n",
       "      <td>19000</td>\n",
       "      <td>0</td>\n",
       "    </tr>\n",
       "    <tr>\n",
       "      <th>1</th>\n",
       "      <td>35</td>\n",
       "      <td>20000</td>\n",
       "      <td>0</td>\n",
       "    </tr>\n",
       "    <tr>\n",
       "      <th>2</th>\n",
       "      <td>26</td>\n",
       "      <td>43000</td>\n",
       "      <td>0</td>\n",
       "    </tr>\n",
       "    <tr>\n",
       "      <th>3</th>\n",
       "      <td>27</td>\n",
       "      <td>57000</td>\n",
       "      <td>0</td>\n",
       "    </tr>\n",
       "    <tr>\n",
       "      <th>4</th>\n",
       "      <td>19</td>\n",
       "      <td>76000</td>\n",
       "      <td>0</td>\n",
       "    </tr>\n",
       "  </tbody>\n",
       "</table>\n",
       "</div>"
      ],
      "text/plain": [
       "   Age  EstimatedSalary  Purchased\n",
       "0   19            19000          0\n",
       "1   35            20000          0\n",
       "2   26            43000          0\n",
       "3   27            57000          0\n",
       "4   19            76000          0"
      ]
     },
     "execution_count": 4,
     "metadata": {},
     "output_type": "execute_result"
    }
   ],
   "source": [
    "data.head()"
   ]
  },
  {
   "cell_type": "code",
   "execution_count": 5,
   "id": "b100b672",
   "metadata": {},
   "outputs": [
    {
     "data": {
      "text/html": [
       "<div>\n",
       "<style scoped>\n",
       "    .dataframe tbody tr th:only-of-type {\n",
       "        vertical-align: middle;\n",
       "    }\n",
       "\n",
       "    .dataframe tbody tr th {\n",
       "        vertical-align: top;\n",
       "    }\n",
       "\n",
       "    .dataframe thead th {\n",
       "        text-align: right;\n",
       "    }\n",
       "</style>\n",
       "<table border=\"1\" class=\"dataframe\">\n",
       "  <thead>\n",
       "    <tr style=\"text-align: right;\">\n",
       "      <th></th>\n",
       "      <th>Age</th>\n",
       "      <th>EstimatedSalary</th>\n",
       "      <th>Purchased</th>\n",
       "    </tr>\n",
       "  </thead>\n",
       "  <tbody>\n",
       "    <tr>\n",
       "      <th>395</th>\n",
       "      <td>46</td>\n",
       "      <td>41000</td>\n",
       "      <td>1</td>\n",
       "    </tr>\n",
       "    <tr>\n",
       "      <th>396</th>\n",
       "      <td>51</td>\n",
       "      <td>23000</td>\n",
       "      <td>1</td>\n",
       "    </tr>\n",
       "    <tr>\n",
       "      <th>397</th>\n",
       "      <td>50</td>\n",
       "      <td>20000</td>\n",
       "      <td>1</td>\n",
       "    </tr>\n",
       "    <tr>\n",
       "      <th>398</th>\n",
       "      <td>36</td>\n",
       "      <td>33000</td>\n",
       "      <td>0</td>\n",
       "    </tr>\n",
       "    <tr>\n",
       "      <th>399</th>\n",
       "      <td>49</td>\n",
       "      <td>36000</td>\n",
       "      <td>1</td>\n",
       "    </tr>\n",
       "  </tbody>\n",
       "</table>\n",
       "</div>"
      ],
      "text/plain": [
       "     Age  EstimatedSalary  Purchased\n",
       "395   46            41000          1\n",
       "396   51            23000          1\n",
       "397   50            20000          1\n",
       "398   36            33000          0\n",
       "399   49            36000          1"
      ]
     },
     "execution_count": 5,
     "metadata": {},
     "output_type": "execute_result"
    }
   ],
   "source": [
    "data.tail()"
   ]
  },
  {
   "cell_type": "code",
   "execution_count": 7,
   "id": "3536599a",
   "metadata": {},
   "outputs": [],
   "source": [
    "from sklearn.model_selection import train_test_split"
   ]
  },
  {
   "cell_type": "code",
   "execution_count": 8,
   "id": "5cc2d419",
   "metadata": {},
   "outputs": [],
   "source": [
    "x=data.iloc[:,:-1]\n",
    "y=data[['Purchased']]"
   ]
  },
  {
   "cell_type": "code",
   "execution_count": 10,
   "id": "36fa7998",
   "metadata": {},
   "outputs": [],
   "source": [
    "x_train,x_test,y_train,y_test=train_test_split(x,y ,random_state=1,test_size=0.3)"
   ]
  },
  {
   "cell_type": "code",
   "execution_count": 11,
   "id": "93f7e292",
   "metadata": {},
   "outputs": [
    {
     "name": "stdout",
     "output_type": "stream",
     "text": [
      "(280, 2)\n",
      "(120, 2)\n"
     ]
    }
   ],
   "source": [
    "print(x_train.shape)\n",
    "print(x_test.shape)"
   ]
  },
  {
   "cell_type": "code",
   "execution_count": 12,
   "id": "6dcd8a65",
   "metadata": {},
   "outputs": [],
   "source": [
    "from sklearn.preprocessing import StandardScaler"
   ]
  },
  {
   "cell_type": "code",
   "execution_count": 13,
   "id": "68dec3a5",
   "metadata": {},
   "outputs": [],
   "source": [
    "scaler=StandardScaler()\n",
    "x_train=scaler.fit_transform(x_train)"
   ]
  },
  {
   "cell_type": "code",
   "execution_count": 15,
   "id": "d7b42350",
   "metadata": {},
   "outputs": [],
   "source": [
    "x_test=scaler.fit_transform(x_test)"
   ]
  },
  {
   "cell_type": "code",
   "execution_count": 16,
   "id": "779d48c1",
   "metadata": {},
   "outputs": [
    {
     "data": {
      "text/plain": [
       "array([[-9.79100420e-01, -1.11059025e+00],\n",
       "       [-2.03575335e-01,  5.66967998e-02],\n",
       "       [ 1.15359356e+00, -1.19813678e+00],\n",
       "       [-2.03575335e-01,  6.40340327e-01],\n",
       "       [-9.69406357e-03,  1.73425505e-01],\n",
       "       [-4.94397242e-01,  1.39907691e+00],\n",
       "       [-1.06634699e-01,  1.73425505e-01],\n",
       "       [-1.65768487e+00,  4.94429445e-01],\n",
       "       [ 8.72465721e-02, -5.56128904e-01],\n",
       "       [ 1.15359356e+00, -9.64679373e-01],\n",
       "       [ 2.81127843e-01, -1.18396258e-01],\n",
       "       [-9.69406357e-03,  2.31789858e-01],\n",
       "       [ 2.21994056e+00, -6.72857609e-01],\n",
       "       [ 1.05665293e+00,  2.01190262e+00],\n",
       "       [ 2.81127843e-01,  5.66967998e-02],\n",
       "       [-1.06634699e-01, -1.76760611e-01],\n",
       "       [-1.07604106e+00,  3.48518563e-01],\n",
       "       [-3.97456606e-01, -1.11059025e+00],\n",
       "       [ 3.78068479e-01, -5.26946727e-01],\n",
       "       [ 8.62771657e-01,  1.44243329e-01],\n",
       "       [-1.85156614e+00,  3.77700740e-01],\n",
       "       [-9.69406357e-03, -1.05222590e+00],\n",
       "       [-2.03575335e-01, -4.68582375e-01],\n",
       "       [-8.82159785e-01, -2.93489316e-01],\n",
       "       [-9.69406357e-03,  5.66967998e-02],\n",
       "       [-1.85156614e+00, -7.31221962e-01],\n",
       "       [ 8.72465721e-02, -2.35124964e-01],\n",
       "       [-2.03575335e-01, -1.18396258e-01],\n",
       "       [-5.91337878e-01, -8.92140820e-02],\n",
       "       [ 9.59712293e-01, -1.28568331e+00],\n",
       "       [ 4.75009115e-01,  1.01970862e+00],\n",
       "       [-1.75462551e+00, -1.46077637e+00],\n",
       "       [-1.56074423e+00,  8.58789761e-02],\n",
       "       [-8.82159785e-01, -1.08140808e+00],\n",
       "       [ 1.44441547e+00,  2.36208873e+00],\n",
       "       [ 1.54135611e+00,  1.01970862e+00],\n",
       "       [-1.17298169e+00,  3.19336387e-01],\n",
       "       [-1.07604106e+00,  8.58789761e-02],\n",
       "       [-1.07604106e+00, -1.57750508e+00],\n",
       "       [ 2.81127843e-01,  2.12863132e+00],\n",
       "       [-2.03575335e-01, -9.06315020e-01],\n",
       "       [ 1.92911865e+00,  1.54498779e+00],\n",
       "       [ 3.78068479e-01,  5.23611621e-01],\n",
       "       [-1.26992233e+00,  5.81975974e-01],\n",
       "       [-9.69406357e-03, -4.97764551e-01],\n",
       "       [-2.03575335e-01,  1.13643732e+00],\n",
       "       [-4.94397242e-01,  9.02979914e-01],\n",
       "       [-2.03575335e-01,  2.27454220e+00],\n",
       "       [-1.75462551e+00, -1.25650114e+00],\n",
       "       [ 8.62771657e-01,  3.77700740e-01],\n",
       "       [ 9.59712293e-01,  1.04889080e+00],\n",
       "       [ 7.65831022e-01, -7.02039785e-01],\n",
       "       [ 8.72465721e-02, -5.26946727e-01],\n",
       "       [-9.69406357e-03,  6.98704680e-01],\n",
       "       [-7.85219149e-01, -7.60404138e-01],\n",
       "       [ 3.78068479e-01, -1.13977243e+00],\n",
       "       [ 2.81127843e-01, -2.64307140e-01],\n",
       "       [-9.79100420e-01,  5.52793798e-01],\n",
       "       [-9.79100420e-01,  6.11158150e-01],\n",
       "       [ 1.84187208e-01,  5.66967998e-02],\n",
       "       [-1.36686296e+00, -1.19813678e+00],\n",
       "       [ 1.34747484e+00,  2.24536003e+00],\n",
       "       [-1.36686296e+00, -1.76760611e-01],\n",
       "       [-9.69406357e-03,  3.19336387e-01],\n",
       "       [ 2.81127843e-01, -6.43675433e-01],\n",
       "       [ 1.05665293e+00, -1.16895461e+00],\n",
       "       [-2.03575335e-01, -2.93489316e-01],\n",
       "       [-1.07604106e+00, -1.13977243e+00],\n",
       "       [ 1.84187208e-01,  1.07807297e+00],\n",
       "       [-8.82159785e-01,  4.36065092e-01],\n",
       "       [ 2.12299992e+00,  2.02607682e-01],\n",
       "       [ 2.81127843e-01, -3.51853669e-01],\n",
       "       [-2.03575335e-01,  8.15433385e-01],\n",
       "       [-1.07604106e+00,  4.94429445e-01],\n",
       "       [ 3.78068479e-01, -1.76760611e-01],\n",
       "       [-7.85219149e-01, -6.43675433e-01],\n",
       "       [-1.07604106e+00, -1.51914072e+00],\n",
       "       [ 2.02605929e+00, -1.34404767e+00],\n",
       "       [-6.88278513e-01, -2.05942787e-01],\n",
       "       [-1.17298169e+00, -1.05222590e+00],\n",
       "       [ 2.12299992e+00, -1.16895461e+00],\n",
       "       [-8.82159785e-01, -9.35497196e-01],\n",
       "       [ 1.84187208e-01,  2.31789858e-01],\n",
       "       [ 9.59712293e-01,  1.10725515e+00],\n",
       "       [ 1.44441547e+00,  2.01190262e+00],\n",
       "       [-7.85219149e-01, -7.60404138e-01],\n",
       "       [-9.79100420e-01,  1.98272044e+00],\n",
       "       [-1.26992233e+00, -4.10218022e-01],\n",
       "       [ 2.81127843e-01,  8.58789761e-02],\n",
       "       [-1.56074423e+00, -1.54832290e+00],\n",
       "       [ 1.92911865e+00, -1.25650114e+00],\n",
       "       [-6.88278513e-01,  1.92435609e+00],\n",
       "       [ 1.05665293e+00,  1.45744126e+00],\n",
       "       [ 2.81127843e-01, -3.51853669e-01],\n",
       "       [-2.03575335e-01,  1.73425505e-01],\n",
       "       [-8.82159785e-01, -7.31221962e-01],\n",
       "       [-9.69406357e-03,  1.44243329e-01],\n",
       "       [-2.03575335e-01, -1.22731896e+00],\n",
       "       [-9.69406357e-03,  2.90154211e-01],\n",
       "       [-4.94397242e-01,  1.48662344e+00],\n",
       "       [-7.85219149e-01,  1.73425505e-01],\n",
       "       [-6.88278513e-01, -1.51914072e+00],\n",
       "       [-1.17298169e+00,  2.90154211e-01],\n",
       "       [ 2.81127843e-01,  1.10725515e+00],\n",
       "       [-1.26992233e+00, -1.46077637e+00],\n",
       "       [ 3.78068479e-01,  8.58789761e-02],\n",
       "       [ 8.72465721e-02, -2.35124964e-01],\n",
       "       [-1.06634699e-01,  2.18699567e+00],\n",
       "       [ 4.75009115e-01, -1.47578435e-01],\n",
       "       [ 1.05665293e+00, -1.05222590e+00],\n",
       "       [ 1.05665293e+00, -1.13977243e+00],\n",
       "       [-1.36686296e+00, -1.43159419e+00],\n",
       "       [ 1.73523738e+00,  1.77844520e+00],\n",
       "       [-7.85219149e-01,  2.30372438e+00],\n",
       "       [ 4.75009115e-01, -1.18396258e-01],\n",
       "       [-9.79100420e-01, -4.39400198e-01],\n",
       "       [-9.69406357e-03, -4.10218022e-01],\n",
       "       [-1.17298169e+00, -1.37322984e+00],\n",
       "       [ 2.12299992e+00,  2.15781350e+00],\n",
       "       [ 4.75009115e-01, -4.39400198e-01],\n",
       "       [-9.79100420e-01, -1.51914072e+00],\n",
       "       [ 9.59712293e-01, -5.85311080e-01],\n",
       "       [-8.82159785e-01, -2.93489316e-01],\n",
       "       [-3.97456606e-01, -1.66755293e-03],\n",
       "       [-5.91337878e-01, -3.08497293e-02],\n",
       "       [-2.03575335e-01, -1.34404767e+00],\n",
       "       [-2.03575335e-01, -1.37322984e+00],\n",
       "       [ 1.92911865e+00, -1.05222590e+00],\n",
       "       [-6.88278513e-01,  1.10725515e+00],\n",
       "       [ 8.62771657e-01, -1.34404767e+00],\n",
       "       [ 3.78068479e-01, -2.64307140e-01],\n",
       "       [-3.97456606e-01, -8.18768491e-01],\n",
       "       [-3.97456606e-01, -2.64307140e-01],\n",
       "       [ 9.59712293e-01, -6.43675433e-01],\n",
       "       [-8.82159785e-01, -4.10218022e-01],\n",
       "       [ 7.65831022e-01, -1.08140808e+00],\n",
       "       [-2.03575335e-01,  1.73425505e-01],\n",
       "       [ 2.12299992e+00, -7.89586314e-01],\n",
       "       [ 9.59712293e-01, -5.56128904e-01],\n",
       "       [ 9.59712293e-01, -5.26946727e-01],\n",
       "       [-2.03575335e-01,  2.90154211e-01],\n",
       "       [ 1.84187208e-01, -7.89586314e-01],\n",
       "       [ 2.81127843e-01,  2.60972034e-01],\n",
       "       [-1.36686296e+00, -6.14493256e-01],\n",
       "       [ 1.84187208e-01,  1.73425505e-01],\n",
       "       [-2.03575335e-01, -3.51853669e-01],\n",
       "       [ 1.73523738e+00, -8.77132844e-01],\n",
       "       [-5.91337878e-01,  5.66967998e-02],\n",
       "       [-8.82159785e-01,  1.57416997e+00],\n",
       "       [ 4.75009115e-01,  3.19336387e-01],\n",
       "       [ 2.81127843e-01, -2.93489316e-01],\n",
       "       [ 1.05665293e+00,  1.44243329e-01],\n",
       "       [-1.56074423e+00,  5.52793798e-01],\n",
       "       [ 1.54135611e+00,  8.58789761e-02],\n",
       "       [-9.79100420e-01, -3.22671493e-01],\n",
       "       [-2.03575335e-01, -6.43675433e-01],\n",
       "       [-8.82159785e-01,  5.81975974e-01],\n",
       "       [-1.07604106e+00,  3.19336387e-01],\n",
       "       [-4.94397242e-01,  1.39907691e+00],\n",
       "       [ 4.75009115e-01,  1.73425505e-01],\n",
       "       [-3.97456606e-01,  2.33290656e+00],\n",
       "       [ 3.78068479e-01,  3.19336387e-01],\n",
       "       [-5.91337878e-01, -3.22671493e-01],\n",
       "       [ 1.84187208e-01,  1.89517391e+00],\n",
       "       [-9.79100420e-01, -1.43159419e+00],\n",
       "       [-7.85219149e-01,  4.06882916e-01],\n",
       "       [-1.75462551e+00,  2.75146234e-02],\n",
       "       [-1.75462551e+00,  4.65247269e-01],\n",
       "       [-7.85219149e-01, -2.35124964e-01],\n",
       "       [ 1.84187208e-01,  1.89517391e+00],\n",
       "       [-5.91337878e-01,  2.02607682e-01],\n",
       "       [ 3.78068479e-01,  8.58789761e-02],\n",
       "       [-1.07604106e+00,  3.19336387e-01],\n",
       "       [ 2.81127843e-01, -2.35124964e-01],\n",
       "       [-2.03575335e-01, -1.28568331e+00],\n",
       "       [ 1.05665293e+00,  7.86251209e-01],\n",
       "       [ 4.75009115e-01,  2.33290656e+00],\n",
       "       [-8.82159785e-01,  2.90154211e-01],\n",
       "       [ 1.34747484e+00,  1.89517391e+00],\n",
       "       [-3.97456606e-01, -1.19813678e+00],\n",
       "       [ 4.75009115e-01, -4.39400198e-01],\n",
       "       [ 7.65831022e-01, -1.37322984e+00],\n",
       "       [-9.69406357e-03, -3.51853669e-01],\n",
       "       [-3.00515971e-01,  1.25316603e+00],\n",
       "       [-2.03575335e-01, -8.77132844e-01],\n",
       "       [-1.46380360e+00, -1.22731896e+00],\n",
       "       [-2.03575335e-01,  8.58789761e-02],\n",
       "       [ 1.84187208e-01, -2.93489316e-01],\n",
       "       [-1.65768487e+00,  1.44243329e-01],\n",
       "       [ 8.62771657e-01, -1.08140808e+00],\n",
       "       [-1.07604106e+00, -7.60404138e-01],\n",
       "       [-7.85219149e-01,  4.06882916e-01],\n",
       "       [ 1.73523738e+00,  1.63253432e+00],\n",
       "       [-9.69406357e-03,  2.24536003e+00],\n",
       "       [ 7.65831022e-01,  1.80762738e+00],\n",
       "       [-3.97456606e-01, -7.60404138e-01],\n",
       "       [ 3.78068479e-01, -7.02039785e-01],\n",
       "       [ 4.75009115e-01,  2.90154211e-01],\n",
       "       [-9.69406357e-03,  1.98272044e+00],\n",
       "       [-1.26992233e+00,  4.36065092e-01],\n",
       "       [-4.94397242e-01, -1.48995855e+00],\n",
       "       [ 1.83217801e+00,  1.01970862e+00],\n",
       "       [ 1.15359356e+00, -8.77132844e-01],\n",
       "       [-8.82159785e-01,  4.65247269e-01],\n",
       "       [ 1.54135611e+00,  2.15781350e+00],\n",
       "       [-6.88278513e-01,  5.81975974e-01],\n",
       "       [ 1.92911865e+00, -2.64307140e-01],\n",
       "       [ 2.81127843e-01,  1.73425505e-01],\n",
       "       [ 3.78068479e-01,  2.90154211e-01],\n",
       "       [-1.65768487e+00,  3.77700740e-01],\n",
       "       [-1.46380360e+00, -4.10218022e-01],\n",
       "       [-2.03575335e-01,  5.52793798e-01],\n",
       "       [ 1.63829674e+00,  2.75146234e-02],\n",
       "       [-5.91337878e-01, -1.57750508e+00],\n",
       "       [ 1.25053420e+00, -9.64679373e-01],\n",
       "       [ 4.75009115e-01, -1.18396258e-01],\n",
       "       [-3.00515971e-01, -7.60404138e-01],\n",
       "       [ 4.75009115e-01,  1.13643732e+00],\n",
       "       [ 1.63829674e+00, -1.25650114e+00],\n",
       "       [-1.75462551e+00, -1.40241202e+00],\n",
       "       [-1.06634699e-01, -5.56128904e-01],\n",
       "       [-9.69406357e-03,  2.75146234e-02],\n",
       "       [-1.06634699e-01,  1.66171650e+00],\n",
       "       [ 9.59712293e-01, -1.43159419e+00],\n",
       "       [-6.88278513e-01,  2.90154211e-01],\n",
       "       [ 2.12299992e+00,  4.06882916e-01],\n",
       "       [-7.85219149e-01,  3.19336387e-01],\n",
       "       [ 5.71949750e-01,  1.25316603e+00],\n",
       "       [ 8.72465721e-02,  3.19336387e-01],\n",
       "       [ 2.02605929e+00,  2.18699567e+00],\n",
       "       [-1.06634699e-01,  1.63253432e+00],\n",
       "       [ 1.15359356e+00, -1.19813678e+00],\n",
       "       [-1.85156614e+00, -4.97764551e-01],\n",
       "       [-6.88278513e-01, -1.57750508e+00],\n",
       "       [ 2.12299992e+00,  5.52793798e-01],\n",
       "       [-9.79100420e-01, -3.51853669e-01],\n",
       "       [ 8.72465721e-02,  5.66967998e-02],\n",
       "       [-5.91337878e-01,  5.81975974e-01],\n",
       "       [ 9.59712293e-01, -1.02304373e+00],\n",
       "       [-5.91337878e-01,  1.44243329e-01],\n",
       "       [-9.69406357e-03,  8.58789761e-02],\n",
       "       [ 2.81127843e-01, -3.51853669e-01],\n",
       "       [ 2.12299992e+00,  1.77844520e+00],\n",
       "       [ 1.15359356e+00, -1.18396258e-01],\n",
       "       [ 1.05665293e+00,  6.11158150e-01],\n",
       "       [ 8.62771657e-01, -1.37322984e+00],\n",
       "       [ 1.63829674e+00,  1.01970862e+00],\n",
       "       [-2.03575335e-01, -1.43159419e+00],\n",
       "       [ 1.15359356e+00,  2.09944914e+00],\n",
       "       [ 1.05665293e+00, -8.18768491e-01],\n",
       "       [-2.03575335e-01, -4.10218022e-01],\n",
       "       [-1.06634699e-01, -2.64307140e-01],\n",
       "       [-4.94397242e-01,  2.36208873e+00],\n",
       "       [-1.85156614e+00, -3.08497293e-02],\n",
       "       [-1.26992233e+00, -4.10218022e-01],\n",
       "       [ 4.75009115e-01,  6.11158150e-01],\n",
       "       [ 8.72465721e-02, -2.93489316e-01],\n",
       "       [ 2.21994056e+00,  1.13643732e+00],\n",
       "       [-1.46380360e+00, -1.76760611e-01],\n",
       "       [-1.26992233e+00, -1.08140808e+00],\n",
       "       [ 8.62771657e-01, -2.93489316e-01],\n",
       "       [ 1.05665293e+00,  1.89517391e+00],\n",
       "       [ 3.78068479e-01,  8.58789761e-02],\n",
       "       [ 1.25053420e+00, -7.31221962e-01],\n",
       "       [ 8.72465721e-02,  5.66967998e-02],\n",
       "       [-1.26992233e+00, -1.34404767e+00],\n",
       "       [-2.03575335e-01, -2.35124964e-01],\n",
       "       [-9.69406357e-03,  3.19336387e-01],\n",
       "       [-1.26992233e+00, -1.22731896e+00],\n",
       "       [-1.07604106e+00,  4.36065092e-01],\n",
       "       [-3.00515971e-01, -1.28568331e+00],\n",
       "       [-1.06634699e-01, -4.39400198e-01],\n",
       "       [-1.56074423e+00, -3.08497293e-02],\n",
       "       [ 3.78068479e-01,  5.66967998e-02],\n",
       "       [ 2.21994056e+00, -7.89586314e-01],\n",
       "       [ 1.44441547e+00,  6.11158150e-01],\n",
       "       [-1.65768487e+00, -1.34404767e+00],\n",
       "       [ 1.34747484e+00, -1.34404767e+00],\n",
       "       [ 8.62771657e-01,  2.90154211e-01],\n",
       "       [-6.88278513e-01, -5.85311080e-01]])"
      ]
     },
     "execution_count": 16,
     "metadata": {},
     "output_type": "execute_result"
    }
   ],
   "source": []
  },
  {
   "cell_type": "code",
   "execution_count": 17,
   "id": "46f6facf",
   "metadata": {},
   "outputs": [],
   "source": [
    "from sklearn.svm import SVC"
   ]
  },
  {
   "cell_type": "code",
   "execution_count": 21,
   "id": "c19266ec",
   "metadata": {},
   "outputs": [
    {
     "name": "stderr",
     "output_type": "stream",
     "text": [
      "E:\\Anacondafiles\\lib\\site-packages\\sklearn\\utils\\validation.py:63: DataConversionWarning: A column-vector y was passed when a 1d array was expected. Please change the shape of y to (n_samples, ), for example using ravel().\n",
      "  return f(*args, **kwargs)\n"
     ]
    }
   ],
   "source": [
    "scv=SVC(\n",
    "    C=1.0,\n",
    "    kernel='rbf',\n",
    "    degree=3,\n",
    "    gamma='scale')\n",
    "scv.fit(x_train,y_train)\n",
    "yhat1=scv.predict(x_test)"
   ]
  },
  {
   "cell_type": "code",
   "execution_count": 22,
   "id": "0200e569",
   "metadata": {},
   "outputs": [
    {
     "name": "stderr",
     "output_type": "stream",
     "text": [
      "E:\\Anacondafiles\\lib\\site-packages\\sklearn\\utils\\validation.py:63: DataConversionWarning: A column-vector y was passed when a 1d array was expected. Please change the shape of y to (n_samples, ), for example using ravel().\n",
      "  return f(*args, **kwargs)\n"
     ]
    }
   ],
   "source": [
    "scv=SVC(\n",
    "    C=1.0,\n",
    "    kernel='linear',\n",
    "    degree=3,\n",
    "    gamma='scale')\n",
    "scv.fit(x_train,y_train)\n",
    "yhat2=scv.predict(x_test)"
   ]
  },
  {
   "cell_type": "code",
   "execution_count": 23,
   "id": "e0022b8b",
   "metadata": {},
   "outputs": [
    {
     "name": "stderr",
     "output_type": "stream",
     "text": [
      "E:\\Anacondafiles\\lib\\site-packages\\sklearn\\utils\\validation.py:63: DataConversionWarning: A column-vector y was passed when a 1d array was expected. Please change the shape of y to (n_samples, ), for example using ravel().\n",
      "  return f(*args, **kwargs)\n"
     ]
    }
   ],
   "source": [
    "scv=SVC(\n",
    "    C=1.0,\n",
    "    kernel='poly',\n",
    "    degree=3,\n",
    "    gamma='scale')\n",
    "scv.fit(x_train,y_train)\n",
    "yhat3=scv.predict(x_test)"
   ]
  },
  {
   "cell_type": "code",
   "execution_count": 24,
   "id": "e738a289",
   "metadata": {},
   "outputs": [],
   "source": [
    "from sklearn import metrics"
   ]
  },
  {
   "cell_type": "code",
   "execution_count": 35,
   "id": "b506701e",
   "metadata": {},
   "outputs": [
    {
     "name": "stdout",
     "output_type": "stream",
     "text": [
      "rbf\n",
      "0.875\n",
      "[[61 11]\n",
      " [ 4 44]]\n"
     ]
    }
   ],
   "source": [
    "print(\"rbf\")\n",
    "print(metrics.accuracy_score(y_test,yhat1))\n",
    "print(metrics.confusion_matrix(y_test,yhat1))"
   ]
  },
  {
   "cell_type": "code",
   "execution_count": 36,
   "id": "3296388a",
   "metadata": {},
   "outputs": [
    {
     "name": "stdout",
     "output_type": "stream",
     "text": [
      "linear\n",
      "0.775\n",
      "[[65  7]\n",
      " [20 28]]\n"
     ]
    }
   ],
   "source": [
    "print(\"linear\")\n",
    "print(metrics.accuracy_score(y_test,yhat2))\n",
    "print(metrics.confusion_matrix(y_test,yhat2))"
   ]
  },
  {
   "cell_type": "code",
   "execution_count": 37,
   "id": "df60d7ca",
   "metadata": {},
   "outputs": [
    {
     "name": "stdout",
     "output_type": "stream",
     "text": [
      "poly\n",
      "0.875\n",
      "[[68  4]\n",
      " [21 27]]\n"
     ]
    }
   ],
   "source": [
    "print(\"poly\")\n",
    "print(metrics.accuracy_score(y_test,yhat1))\n",
    "print(metrics.confusion_matrix(y_test,yhat3))"
   ]
  },
  {
   "cell_type": "markdown",
   "id": "42b65b6c",
   "metadata": {},
   "source": [
    "# GridsearchCV"
   ]
  },
  {
   "cell_type": "code",
   "execution_count": 64,
   "id": "f2630160",
   "metadata": {},
   "outputs": [],
   "source": [
    "param_grid = {'C': [0.1, 1, 10, 100],  \n",
    "              'gamma': [1, 0.1, 0.01, 0.001, 0.0001], \n",
    "              'gamma':['scale', 'auto'],\n",
    "              'kernel': ['rbf','linear','poly']} "
   ]
  },
  {
   "cell_type": "code",
   "execution_count": 65,
   "id": "ec994d9d",
   "metadata": {},
   "outputs": [
    {
     "name": "stdout",
     "output_type": "stream",
     "text": [
      "Fitting 5 folds for each of 24 candidates, totalling 120 fits\n",
      "{'C': 1, 'gamma': 'scale', 'kernel': 'rbf'}\n"
     ]
    },
    {
     "name": "stderr",
     "output_type": "stream",
     "text": [
      "E:\\Anacondafiles\\lib\\site-packages\\sklearn\\utils\\validation.py:63: DataConversionWarning: A column-vector y was passed when a 1d array was expected. Please change the shape of y to (n_samples, ), for example using ravel().\n",
      "  return f(*args, **kwargs)\n"
     ]
    }
   ],
   "source": [
    "from sklearn.model_selection import GridSearchCV\n",
    "grid= GridSearchCV(SVC(), param_grid, refit = True, verbose = 3,n_jobs=4) \n",
    "   \n",
    "# fitting the model for grid search \n",
    "grid.fit(x_train, y_train) \n",
    "\n",
    " \n",
    "# print best parameter after tuning \n",
    "print(grid.best_params_) \n",
    "grid_predictions = grid.predict(x_test) \n",
    "   "
   ]
  },
  {
   "cell_type": "code",
   "execution_count": 66,
   "id": "fbc14b9e",
   "metadata": {},
   "outputs": [
    {
     "name": "stdout",
     "output_type": "stream",
     "text": [
      "              precision    recall  f1-score   support\n",
      "\n",
      "           0       0.85      0.94      0.89        65\n",
      "           1       0.92      0.80      0.85        55\n",
      "\n",
      "    accuracy                           0.88       120\n",
      "   macro avg       0.88      0.87      0.87       120\n",
      "weighted avg       0.88      0.88      0.87       120\n",
      "\n"
     ]
    }
   ],
   "source": [
    "print(metrics.classification_report(grid_predictions,y_test))"
   ]
  },
  {
   "cell_type": "code",
   "execution_count": null,
   "id": "88894467",
   "metadata": {},
   "outputs": [],
   "source": []
  },
  {
   "cell_type": "code",
   "execution_count": null,
   "id": "da237af6",
   "metadata": {},
   "outputs": [],
   "source": []
  }
 ],
 "metadata": {
  "kernelspec": {
   "display_name": "Python 3",
   "language": "python",
   "name": "python3"
  },
  "language_info": {
   "codemirror_mode": {
    "name": "ipython",
    "version": 3
   },
   "file_extension": ".py",
   "mimetype": "text/x-python",
   "name": "python",
   "nbconvert_exporter": "python",
   "pygments_lexer": "ipython3",
   "version": "3.8.8"
  }
 },
 "nbformat": 4,
 "nbformat_minor": 5
}
